{
  "cells": [
    {
      "cell_type": "markdown",
      "metadata": {
        "id": "KuJ5NX3bo6H6"
      },
      "source": [
        "# ***Instagram Reach Analysis Using Python:***"
      ]
    },
    {
      "cell_type": "markdown",
      "metadata": {
        "id": "GcFWY4G8jFrS"
      },
      "source": [
        "## Let us start with the task of analyzing the reach of an instagram account by importing the necessary Python libraries"
      ]
    },
    {
      "cell_type": "code",
      "execution_count": 7,
      "metadata": {
        "id": "2j9BlSkcuGXT"
      },
      "outputs": [],
      "source": [
        "import numpy as np\n",
        "import pandas as pd\n",
        "import matplotlib.pyplot as plt\n",
        "import seaborn as sns\n",
        "import plotly.express as px\n",
        "from wordcloud import WordCloud, STOPWORDS, ImageColorGenerator"
      ]
    },
    {
      "cell_type": "markdown",
      "metadata": {
        "id": "kvqGDbLyjRyo"
      },
      "source": [
        "# Importing the dataset :***Instagram***"
      ]
    },
    {
      "cell_type": "code",
      "execution_count": 8,
      "metadata": {
        "colab": {
          "base_uri": "https://localhost:8080/",
          "height": 339
        },
        "id": "3csEz98fuJzk",
        "outputId": "956fe906-36f0-447a-83fe-d797a13b8db5"
      },
      "outputs": [
        {
          "ename": "FileNotFoundError",
          "evalue": "ignored",
          "output_type": "error",
          "traceback": [
            "\u001b[0;31m---------------------------------------------------------------------------\u001b[0m",
            "\u001b[0;31mFileNotFoundError\u001b[0m                         Traceback (most recent call last)",
            "\u001b[0;32m<ipython-input-8-c6ee09060df6>\u001b[0m in \u001b[0;36m<cell line: 1>\u001b[0;34m()\u001b[0m\n\u001b[0;32m----> 1\u001b[0;31m \u001b[0mdata\u001b[0m\u001b[0;34m=\u001b[0m\u001b[0mpd\u001b[0m\u001b[0;34m.\u001b[0m\u001b[0mread_csv\u001b[0m\u001b[0;34m(\u001b[0m\u001b[0;34m\"Instagram.csv\"\u001b[0m\u001b[0;34m,\u001b[0m \u001b[0mencoding\u001b[0m \u001b[0;34m=\u001b[0m \u001b[0;34m'latin1'\u001b[0m \u001b[0;34m)\u001b[0m\u001b[0;34m\u001b[0m\u001b[0;34m\u001b[0m\u001b[0m\n\u001b[0m\u001b[1;32m      2\u001b[0m \u001b[0mprint\u001b[0m\u001b[0;34m(\u001b[0m\u001b[0mdata\u001b[0m\u001b[0;34m.\u001b[0m\u001b[0mhead\u001b[0m\u001b[0;34m(\u001b[0m\u001b[0;34m)\u001b[0m\u001b[0;34m)\u001b[0m\u001b[0;34m\u001b[0m\u001b[0;34m\u001b[0m\u001b[0m\n",
            "\u001b[0;32m/usr/local/lib/python3.10/dist-packages/pandas/util/_decorators.py\u001b[0m in \u001b[0;36mwrapper\u001b[0;34m(*args, **kwargs)\u001b[0m\n\u001b[1;32m    209\u001b[0m                 \u001b[0;32melse\u001b[0m\u001b[0;34m:\u001b[0m\u001b[0;34m\u001b[0m\u001b[0;34m\u001b[0m\u001b[0m\n\u001b[1;32m    210\u001b[0m                     \u001b[0mkwargs\u001b[0m\u001b[0;34m[\u001b[0m\u001b[0mnew_arg_name\u001b[0m\u001b[0;34m]\u001b[0m \u001b[0;34m=\u001b[0m \u001b[0mnew_arg_value\u001b[0m\u001b[0;34m\u001b[0m\u001b[0;34m\u001b[0m\u001b[0m\n\u001b[0;32m--> 211\u001b[0;31m             \u001b[0;32mreturn\u001b[0m \u001b[0mfunc\u001b[0m\u001b[0;34m(\u001b[0m\u001b[0;34m*\u001b[0m\u001b[0margs\u001b[0m\u001b[0;34m,\u001b[0m \u001b[0;34m**\u001b[0m\u001b[0mkwargs\u001b[0m\u001b[0;34m)\u001b[0m\u001b[0;34m\u001b[0m\u001b[0;34m\u001b[0m\u001b[0m\n\u001b[0m\u001b[1;32m    212\u001b[0m \u001b[0;34m\u001b[0m\u001b[0m\n\u001b[1;32m    213\u001b[0m         \u001b[0;32mreturn\u001b[0m \u001b[0mcast\u001b[0m\u001b[0;34m(\u001b[0m\u001b[0mF\u001b[0m\u001b[0;34m,\u001b[0m \u001b[0mwrapper\u001b[0m\u001b[0;34m)\u001b[0m\u001b[0;34m\u001b[0m\u001b[0;34m\u001b[0m\u001b[0m\n",
            "\u001b[0;32m/usr/local/lib/python3.10/dist-packages/pandas/util/_decorators.py\u001b[0m in \u001b[0;36mwrapper\u001b[0;34m(*args, **kwargs)\u001b[0m\n\u001b[1;32m    329\u001b[0m                     \u001b[0mstacklevel\u001b[0m\u001b[0;34m=\u001b[0m\u001b[0mfind_stack_level\u001b[0m\u001b[0;34m(\u001b[0m\u001b[0;34m)\u001b[0m\u001b[0;34m,\u001b[0m\u001b[0;34m\u001b[0m\u001b[0;34m\u001b[0m\u001b[0m\n\u001b[1;32m    330\u001b[0m                 )\n\u001b[0;32m--> 331\u001b[0;31m             \u001b[0;32mreturn\u001b[0m \u001b[0mfunc\u001b[0m\u001b[0;34m(\u001b[0m\u001b[0;34m*\u001b[0m\u001b[0margs\u001b[0m\u001b[0;34m,\u001b[0m \u001b[0;34m**\u001b[0m\u001b[0mkwargs\u001b[0m\u001b[0;34m)\u001b[0m\u001b[0;34m\u001b[0m\u001b[0;34m\u001b[0m\u001b[0m\n\u001b[0m\u001b[1;32m    332\u001b[0m \u001b[0;34m\u001b[0m\u001b[0m\n\u001b[1;32m    333\u001b[0m         \u001b[0;31m# error: \"Callable[[VarArg(Any), KwArg(Any)], Any]\" has no\u001b[0m\u001b[0;34m\u001b[0m\u001b[0;34m\u001b[0m\u001b[0m\n",
            "\u001b[0;32m/usr/local/lib/python3.10/dist-packages/pandas/io/parsers/readers.py\u001b[0m in \u001b[0;36mread_csv\u001b[0;34m(filepath_or_buffer, sep, delimiter, header, names, index_col, usecols, squeeze, prefix, mangle_dupe_cols, dtype, engine, converters, true_values, false_values, skipinitialspace, skiprows, skipfooter, nrows, na_values, keep_default_na, na_filter, verbose, skip_blank_lines, parse_dates, infer_datetime_format, keep_date_col, date_parser, dayfirst, cache_dates, iterator, chunksize, compression, thousands, decimal, lineterminator, quotechar, quoting, doublequote, escapechar, comment, encoding, encoding_errors, dialect, error_bad_lines, warn_bad_lines, on_bad_lines, delim_whitespace, low_memory, memory_map, float_precision, storage_options)\u001b[0m\n\u001b[1;32m    948\u001b[0m     \u001b[0mkwds\u001b[0m\u001b[0;34m.\u001b[0m\u001b[0mupdate\u001b[0m\u001b[0;34m(\u001b[0m\u001b[0mkwds_defaults\u001b[0m\u001b[0;34m)\u001b[0m\u001b[0;34m\u001b[0m\u001b[0;34m\u001b[0m\u001b[0m\n\u001b[1;32m    949\u001b[0m \u001b[0;34m\u001b[0m\u001b[0m\n\u001b[0;32m--> 950\u001b[0;31m     \u001b[0;32mreturn\u001b[0m \u001b[0m_read\u001b[0m\u001b[0;34m(\u001b[0m\u001b[0mfilepath_or_buffer\u001b[0m\u001b[0;34m,\u001b[0m \u001b[0mkwds\u001b[0m\u001b[0;34m)\u001b[0m\u001b[0;34m\u001b[0m\u001b[0;34m\u001b[0m\u001b[0m\n\u001b[0m\u001b[1;32m    951\u001b[0m \u001b[0;34m\u001b[0m\u001b[0m\n\u001b[1;32m    952\u001b[0m \u001b[0;34m\u001b[0m\u001b[0m\n",
            "\u001b[0;32m/usr/local/lib/python3.10/dist-packages/pandas/io/parsers/readers.py\u001b[0m in \u001b[0;36m_read\u001b[0;34m(filepath_or_buffer, kwds)\u001b[0m\n\u001b[1;32m    603\u001b[0m \u001b[0;34m\u001b[0m\u001b[0m\n\u001b[1;32m    604\u001b[0m     \u001b[0;31m# Create the parser.\u001b[0m\u001b[0;34m\u001b[0m\u001b[0;34m\u001b[0m\u001b[0m\n\u001b[0;32m--> 605\u001b[0;31m     \u001b[0mparser\u001b[0m \u001b[0;34m=\u001b[0m \u001b[0mTextFileReader\u001b[0m\u001b[0;34m(\u001b[0m\u001b[0mfilepath_or_buffer\u001b[0m\u001b[0;34m,\u001b[0m \u001b[0;34m**\u001b[0m\u001b[0mkwds\u001b[0m\u001b[0;34m)\u001b[0m\u001b[0;34m\u001b[0m\u001b[0;34m\u001b[0m\u001b[0m\n\u001b[0m\u001b[1;32m    606\u001b[0m \u001b[0;34m\u001b[0m\u001b[0m\n\u001b[1;32m    607\u001b[0m     \u001b[0;32mif\u001b[0m \u001b[0mchunksize\u001b[0m \u001b[0;32mor\u001b[0m \u001b[0miterator\u001b[0m\u001b[0;34m:\u001b[0m\u001b[0;34m\u001b[0m\u001b[0;34m\u001b[0m\u001b[0m\n",
            "\u001b[0;32m/usr/local/lib/python3.10/dist-packages/pandas/io/parsers/readers.py\u001b[0m in \u001b[0;36m__init__\u001b[0;34m(self, f, engine, **kwds)\u001b[0m\n\u001b[1;32m   1440\u001b[0m \u001b[0;34m\u001b[0m\u001b[0m\n\u001b[1;32m   1441\u001b[0m         \u001b[0mself\u001b[0m\u001b[0;34m.\u001b[0m\u001b[0mhandles\u001b[0m\u001b[0;34m:\u001b[0m \u001b[0mIOHandles\u001b[0m \u001b[0;34m|\u001b[0m \u001b[0;32mNone\u001b[0m \u001b[0;34m=\u001b[0m \u001b[0;32mNone\u001b[0m\u001b[0;34m\u001b[0m\u001b[0;34m\u001b[0m\u001b[0m\n\u001b[0;32m-> 1442\u001b[0;31m         \u001b[0mself\u001b[0m\u001b[0;34m.\u001b[0m\u001b[0m_engine\u001b[0m \u001b[0;34m=\u001b[0m \u001b[0mself\u001b[0m\u001b[0;34m.\u001b[0m\u001b[0m_make_engine\u001b[0m\u001b[0;34m(\u001b[0m\u001b[0mf\u001b[0m\u001b[0;34m,\u001b[0m \u001b[0mself\u001b[0m\u001b[0;34m.\u001b[0m\u001b[0mengine\u001b[0m\u001b[0;34m)\u001b[0m\u001b[0;34m\u001b[0m\u001b[0;34m\u001b[0m\u001b[0m\n\u001b[0m\u001b[1;32m   1443\u001b[0m \u001b[0;34m\u001b[0m\u001b[0m\n\u001b[1;32m   1444\u001b[0m     \u001b[0;32mdef\u001b[0m \u001b[0mclose\u001b[0m\u001b[0;34m(\u001b[0m\u001b[0mself\u001b[0m\u001b[0;34m)\u001b[0m \u001b[0;34m->\u001b[0m \u001b[0;32mNone\u001b[0m\u001b[0;34m:\u001b[0m\u001b[0;34m\u001b[0m\u001b[0;34m\u001b[0m\u001b[0m\n",
            "\u001b[0;32m/usr/local/lib/python3.10/dist-packages/pandas/io/parsers/readers.py\u001b[0m in \u001b[0;36m_make_engine\u001b[0;34m(self, f, engine)\u001b[0m\n\u001b[1;32m   1733\u001b[0m                 \u001b[0;32mif\u001b[0m \u001b[0;34m\"b\"\u001b[0m \u001b[0;32mnot\u001b[0m \u001b[0;32min\u001b[0m \u001b[0mmode\u001b[0m\u001b[0;34m:\u001b[0m\u001b[0;34m\u001b[0m\u001b[0;34m\u001b[0m\u001b[0m\n\u001b[1;32m   1734\u001b[0m                     \u001b[0mmode\u001b[0m \u001b[0;34m+=\u001b[0m \u001b[0;34m\"b\"\u001b[0m\u001b[0;34m\u001b[0m\u001b[0;34m\u001b[0m\u001b[0m\n\u001b[0;32m-> 1735\u001b[0;31m             self.handles = get_handle(\n\u001b[0m\u001b[1;32m   1736\u001b[0m                 \u001b[0mf\u001b[0m\u001b[0;34m,\u001b[0m\u001b[0;34m\u001b[0m\u001b[0;34m\u001b[0m\u001b[0m\n\u001b[1;32m   1737\u001b[0m                 \u001b[0mmode\u001b[0m\u001b[0;34m,\u001b[0m\u001b[0;34m\u001b[0m\u001b[0;34m\u001b[0m\u001b[0m\n",
            "\u001b[0;32m/usr/local/lib/python3.10/dist-packages/pandas/io/common.py\u001b[0m in \u001b[0;36mget_handle\u001b[0;34m(path_or_buf, mode, encoding, compression, memory_map, is_text, errors, storage_options)\u001b[0m\n\u001b[1;32m    854\u001b[0m         \u001b[0;32mif\u001b[0m \u001b[0mioargs\u001b[0m\u001b[0;34m.\u001b[0m\u001b[0mencoding\u001b[0m \u001b[0;32mand\u001b[0m \u001b[0;34m\"b\"\u001b[0m \u001b[0;32mnot\u001b[0m \u001b[0;32min\u001b[0m \u001b[0mioargs\u001b[0m\u001b[0;34m.\u001b[0m\u001b[0mmode\u001b[0m\u001b[0;34m:\u001b[0m\u001b[0;34m\u001b[0m\u001b[0;34m\u001b[0m\u001b[0m\n\u001b[1;32m    855\u001b[0m             \u001b[0;31m# Encoding\u001b[0m\u001b[0;34m\u001b[0m\u001b[0;34m\u001b[0m\u001b[0m\n\u001b[0;32m--> 856\u001b[0;31m             handle = open(\n\u001b[0m\u001b[1;32m    857\u001b[0m                 \u001b[0mhandle\u001b[0m\u001b[0;34m,\u001b[0m\u001b[0;34m\u001b[0m\u001b[0;34m\u001b[0m\u001b[0m\n\u001b[1;32m    858\u001b[0m                 \u001b[0mioargs\u001b[0m\u001b[0;34m.\u001b[0m\u001b[0mmode\u001b[0m\u001b[0;34m,\u001b[0m\u001b[0;34m\u001b[0m\u001b[0;34m\u001b[0m\u001b[0m\n",
            "\u001b[0;31mFileNotFoundError\u001b[0m: [Errno 2] No such file or directory: 'Instagram.csv'"
          ]
        }
      ],
      "source": [
        "data=pd.read_csv(\"Instagram.csv\", encoding = 'latin1' )\n",
        "print(data.head())"
      ]
    },
    {
      "cell_type": "markdown",
      "metadata": {
        "id": "BHLVonrUj9hV"
      },
      "source": [
        "### Let's check for any null values in this dataset"
      ]
    },
    {
      "cell_type": "code",
      "execution_count": 9,
      "metadata": {
        "colab": {
          "base_uri": "https://localhost:8080/",
          "height": 176
        },
        "id": "LOUY9ecivH54",
        "outputId": "2cb22bc3-4d51-4407-b052-561c0255268d"
      },
      "outputs": [
        {
          "ename": "NameError",
          "evalue": "ignored",
          "output_type": "error",
          "traceback": [
            "\u001b[0;31m---------------------------------------------------------------------------\u001b[0m",
            "\u001b[0;31mNameError\u001b[0m                                 Traceback (most recent call last)",
            "\u001b[0;32m<ipython-input-9-2962204f287d>\u001b[0m in \u001b[0;36m<cell line: 1>\u001b[0;34m()\u001b[0m\n\u001b[0;32m----> 1\u001b[0;31m \u001b[0mdata\u001b[0m\u001b[0;34m.\u001b[0m\u001b[0misnull\u001b[0m\u001b[0;34m(\u001b[0m\u001b[0;34m)\u001b[0m\u001b[0;34m.\u001b[0m\u001b[0msum\u001b[0m\u001b[0;34m(\u001b[0m\u001b[0;34m)\u001b[0m\u001b[0;34m\u001b[0m\u001b[0;34m\u001b[0m\u001b[0m\n\u001b[0m",
            "\u001b[0;31mNameError\u001b[0m: name 'data' is not defined"
          ]
        }
      ],
      "source": [
        "data.isnull().sum()"
      ]
    },
    {
      "cell_type": "markdown",
      "metadata": {
        "id": "4PtFvlO9kLCO"
      },
      "source": [
        "### It doesn't have any null values"
      ]
    },
    {
      "cell_type": "code",
      "execution_count": null,
      "metadata": {
        "id": "y5aoVSBK3E4c"
      },
      "outputs": [],
      "source": [
        "#If any null value was found\n",
        "#data=data.dropna()"
      ]
    },
    {
      "cell_type": "markdown",
      "metadata": {
        "id": "9C37Z-3tkkjv"
      },
      "source": [
        "### Taking a look at the insights of the columns to understand the data type of all the columns"
      ]
    },
    {
      "cell_type": "code",
      "execution_count": null,
      "metadata": {
        "id": "fGLFRi4Z3fYq"
      },
      "outputs": [],
      "source": [
        "data.info()"
      ]
    },
    {
      "cell_type": "markdown",
      "metadata": {
        "id": "-8__zC0Tk1ew"
      },
      "source": [
        "# Analyzing the reach of  the Instagram posts"
      ]
    },
    {
      "cell_type": "markdown",
      "metadata": {
        "id": "Cg9FZBJSk1_S"
      },
      "source": [
        "### Looking at the distribution of impressions it has received from home"
      ]
    },
    {
      "cell_type": "code",
      "execution_count": null,
      "metadata": {
        "id": "ROcJ9K3F4fmH"
      },
      "outputs": [],
      "source": [
        "plt.figure(figsize=(10,8))\n",
        "plt.style.use('fivethirtyeight')\n",
        "plt.title(\"Distribution of Impressions From Home\")\n",
        "sns.distplot(data['From Home'])\n",
        "plt.show()"
      ]
    },
    {
      "cell_type": "markdown",
      "metadata": {
        "id": "xKJZNsA-lQJh"
      },
      "source": [
        "### The impressions from the home section on Instagram shows how much the posts reach one's followers. Looking at the impressions from home, I can say it’s hard to reach all the  followers daily."
      ]
    },
    {
      "cell_type": "markdown",
      "metadata": {
        "id": "EFcq-9TplQXR"
      },
      "source": [
        "### Now let’s have a look at the distribution of the impressions received from hashtags:"
      ]
    },
    {
      "cell_type": "code",
      "execution_count": null,
      "metadata": {
        "id": "RmoBEOGc58W-"
      },
      "outputs": [],
      "source": [
        "plt.figure(figsize=(10,8))\n",
        "plt.title(\"Distibution of Impressions From Hashtags\")\n",
        "sns.distplot(data['From Hashtags'])\n",
        "plt.show()"
      ]
    },
    {
      "cell_type": "markdown",
      "metadata": {
        "id": "wrSOc4C6lhAY"
      },
      "source": [
        "### Hashtags are tools we use to categorize our posts on Instagram so that we can reach more people based on the kind of content we are creating. Looking at hashtag impressions shows that not all posts can be reached using hashtags, but many new users can be reached from hashtags."
      ]
    },
    {
      "cell_type": "markdown",
      "metadata": {
        "id": "Jdu3ZtRSlhZF"
      },
      "source": [
        "Now we will have a look at the distribution of impressions received from the explore section of Instagram:"
      ]
    },
    {
      "cell_type": "code",
      "execution_count": null,
      "metadata": {
        "id": "NcObdAVd69uR"
      },
      "outputs": [],
      "source": [
        "plt.figure(figsize=(10,8))\n",
        "plt.title(\"Distribution of Impressions From Explore Section\")\n",
        "sns.distplot(data['From Explore'])\n",
        "plt.show()"
      ]
    },
    {
      "cell_type": "markdown",
      "metadata": {
        "id": "7MIeNCgPlvvW"
      },
      "source": [
        "### The explore section of Instagram is the recommendation system of Instagram. It recommends posts to the users based on their preferences and interests."
      ]
    },
    {
      "cell_type": "markdown",
      "metadata": {
        "id": "FKnbOtLUlv_O"
      },
      "source": [
        "### By looking at the impressions received from the explore section, we can say that Instagram doesn't recommend our posts much to the users. Some posts have received a good reach from the explore section, but it’s still very low compared to the reach receive from hashtags."
      ]
    },
    {
      "cell_type": "markdown",
      "metadata": {
        "id": "JqdjFODalwOC"
      },
      "source": [
        "### Now we will have a look at the percentage of impressions we got from various sources on Instagram:"
      ]
    },
    {
      "cell_type": "code",
      "execution_count": null,
      "metadata": {
        "id": "I7e-8lNc8STG"
      },
      "outputs": [],
      "source": [
        "home=data[\"From Home\"].sum()\n",
        "hashtags=data[\"From Hashtags\"].sum()\n",
        "explore=data[\"From Explore\"].sum()\n",
        "other=data[\"From Other\"].sum()\n",
        "\n",
        "labels=['From Home','From Hashtags','From Explore','Other']\n",
        "values=[home,hashtags,explore,other]\n",
        "\n",
        "fig=px.pie(data,values=values,names=labels,title='Impressions on Instagram Posts From Various Sources', hole=0.5)\n",
        "fig.show()"
      ]
    },
    {
      "cell_type": "markdown",
      "metadata": {
        "id": "IvBrSBFSmLqz"
      },
      "source": [
        "### So the above donut plot shows that 44.1 per cent of the reach is from my followers, 33.6 per cent is from hashtags, 19.12 per cent is from the explore section, and 3.05 per cent is from other sources."
      ]
    },
    {
      "cell_type": "markdown",
      "metadata": {
        "id": "ikghu_JvmL46"
      },
      "source": [
        "# Analyzing Content"
      ]
    },
    {
      "cell_type": "markdown",
      "metadata": {
        "id": "AsbPsgGGmMIb"
      },
      "source": [
        "### Now we'll analyze the content of the Instagram posts. The dataset has two columns, namely caption and hashtags, which will help us understand the kind of content posted on Instagram."
      ]
    },
    {
      "cell_type": "markdown",
      "metadata": {
        "id": "GPk7U7eamMYI"
      },
      "source": [
        "### Let’s create a wordcloud of the caption column to look at the most used words in the caption of my Instagram posts:"
      ]
    },
    {
      "cell_type": "code",
      "execution_count": null,
      "metadata": {
        "id": "WyVwUPpxRu9d"
      },
      "outputs": [],
      "source": [
        "text=\" \".join(i for i in data.Caption)\n",
        "stopwords=set(STOPWORDS)\n",
        "wordcloud=WordCloud(stopwords=stopwords,background_color=\"white\").generate(text)\n",
        "plt.style.use('classic')\n",
        "plt.figure(figsize=(12,10))\n",
        "plt.imshow(wordcloud,interpolation='bilinear')\n",
        "plt.axis(\"off\")\n",
        "plt.show()"
      ]
    },
    {
      "cell_type": "markdown",
      "metadata": {
        "id": "asr_6hHmmhEp"
      },
      "source": [
        "### Now let’s create a wordcloud of the hashtags column to look at the most used hashtags in the Instagram posts:"
      ]
    },
    {
      "cell_type": "code",
      "execution_count": null,
      "metadata": {
        "id": "_mqrkIp6WBoI"
      },
      "outputs": [],
      "source": [
        "text=\" \".join(i for i in data.Hashtags)\n",
        "stopwords=set(STOPWORDS)\n",
        "wordcloud=WordCloud(stopwords=stopwords,background_color=\"white\").generate(text)\n",
        "plt.figure(figsize=(12,10))\n",
        "plt.imshow(wordcloud,interpolation='bilinear')\n",
        "plt.axis(\"off\")\n",
        "plt.show()"
      ]
    },
    {
      "cell_type": "markdown",
      "metadata": {
        "id": "b59mLF9lmnFu"
      },
      "source": [
        "# Analyzing Relationships"
      ]
    },
    {
      "cell_type": "markdown",
      "metadata": {
        "id": "EhIowQeKmnTs"
      },
      "source": [
        "### Analyzing relationships helps us to find the most important factors of our Instagram reach. It will also help us in understanding how the Instagram algorithm works."
      ]
    },
    {
      "cell_type": "markdown",
      "metadata": {
        "id": "BCXyLK4smnhb"
      },
      "source": [
        "### Having a look at the relationship between the number of likes and the number of impressions on the Instagram posts:"
      ]
    },
    {
      "cell_type": "code",
      "execution_count": null,
      "metadata": {
        "id": "0_cDKJ9RXdT7"
      },
      "outputs": [],
      "source": [
        "figure=px.scatter(data_frame=data,x=\"Impressions\",y=\"Likes\",size=\"Likes\",trendline=\"ols\",title=\"Relationship Between Likes and Impressions\")\n",
        "figure.show()"
      ]
    },
    {
      "cell_type": "markdown",
      "metadata": {
        "id": "GpDoQcxcm5JM"
      },
      "source": [
        "### There is a linear relationship between the number of likes and the reach we got on Instagram."
      ]
    },
    {
      "cell_type": "markdown",
      "metadata": {
        "id": "SDlaVgomm5Wn"
      },
      "source": [
        "### Now let’s see the relationship between the number of comments and the number of impressions on the Instagram posts:"
      ]
    },
    {
      "cell_type": "code",
      "execution_count": null,
      "metadata": {
        "id": "2N4T-gVeYgaP"
      },
      "outputs": [],
      "source": [
        "figure=px.scatter(data_frame=data,x=\"Impressions\",y=\"Comments\",size=\"Comments\",trendline=\"ols\",title=\"Relationship Between Comments and TotalImpressions\")\n",
        "figure.show()"
      ]
    },
    {
      "cell_type": "markdown",
      "metadata": {
        "id": "kZmw-N6SnFJv"
      },
      "source": [
        "### It looks like the number of comments we get on a post doesn’t affect its reach"
      ]
    },
    {
      "cell_type": "markdown",
      "metadata": {
        "id": "2w4wldrXnFWJ"
      },
      "source": [
        "### Now let’s have a look at the relationship between the number of shares and the number of impressions:"
      ]
    },
    {
      "cell_type": "code",
      "execution_count": null,
      "metadata": {
        "id": "UrEP-Bd9Zav6"
      },
      "outputs": [],
      "source": [
        "figure=px.scatter(data_frame=data, x=\"Impressions\",y=\"Shares\",size=\"Shares\",trendline=\"ols\",title=\"Relationship Between Shares and Total Impressions\")\n",
        "figure.show()"
      ]
    },
    {
      "cell_type": "markdown",
      "metadata": {
        "id": "yBocYDUMnP9C"
      },
      "source": [
        "### A more number of shares will result in a higher reach, but shares don’t affect the reach of a post as much as likes do."
      ]
    },
    {
      "cell_type": "markdown",
      "metadata": {
        "id": "PXncGAMhnQH7"
      },
      "source": [
        "### Now let’s have a look at the relationship between the number of saves and the number of impressions:"
      ]
    },
    {
      "cell_type": "code",
      "execution_count": null,
      "metadata": {
        "id": "0Xh1z7npaLzX"
      },
      "outputs": [],
      "source": [
        "figure=px.scatter(data_frame=data, x=\"Impressions\",y=\"Saves\",size=\"Saves\",trendline=\"ols\",title=\"Relationship Between Saves and Total Impressions\")\n",
        "figure.show()"
      ]
    },
    {
      "cell_type": "markdown",
      "metadata": {
        "id": "aH8Fo7Hinriu"
      },
      "source": [
        "### There is a linear relationship between the number of times our post is saved and the reach of our Instagram post"
      ]
    },
    {
      "cell_type": "markdown",
      "metadata": {
        "id": "Aqz3LQZjnrwV"
      },
      "source": [
        "### Now let’s have a look at the correlation of all the columns with the Impressions column:"
      ]
    },
    {
      "cell_type": "code",
      "execution_count": null,
      "metadata": {
        "id": "bssuoYPWaoBb"
      },
      "outputs": [],
      "source": [
        "correlation=data.corr()\n",
        "print(correlation[\"Impressions\"].sort_values(ascending=False))"
      ]
    },
    {
      "cell_type": "markdown",
      "metadata": {
        "id": "YFF9vJp1n32t"
      },
      "source": [
        "### So we can say that more likes and saves will help you get more reach on Instagram. The higher number of shares will also help you get more reach, but a low number of shares will not affect your reach either."
      ]
    },
    {
      "cell_type": "markdown",
      "metadata": {
        "id": "K4Sy2aBxn4AK"
      },
      "source": [
        "# Analyzing Conversion Rate"
      ]
    },
    {
      "cell_type": "markdown",
      "metadata": {
        "id": "L1wdIDKkn4My"
      },
      "source": [
        "### In Instagram, conversation rate means how many followers you are getting from the number of profile visits from a post. The formula that you can use to calculate conversion rate is (Follows/Profile Visits) * 100."
      ]
    },
    {
      "cell_type": "markdown",
      "metadata": {
        "id": "L6CP5Eucn4ZG"
      },
      "source": [
        "### Now let’s have a look at the conversation rate of our Instagram account:"
      ]
    },
    {
      "cell_type": "code",
      "execution_count": null,
      "metadata": {
        "id": "JAHVEBbxbiHb"
      },
      "outputs": [],
      "source": [
        "conversion_rate=(data[\"Follows\"].sum()/data[\"Profile Visits\"].sum())*100\n",
        "print(conversion_rate)"
      ]
    },
    {
      "cell_type": "markdown",
      "metadata": {
        "id": "AkrWf9TUoOfm"
      },
      "source": [
        "### So the conversation rate of our Instagram account is 41% which sounds like a very good conversation rate."
      ]
    },
    {
      "cell_type": "markdown",
      "metadata": {
        "id": "Ts7vgnf4oOol"
      },
      "source": [
        "### Let’s have a look at the relationship between the total profile visits and the number of followers gained from all profile visits:"
      ]
    },
    {
      "cell_type": "code",
      "execution_count": null,
      "metadata": {
        "id": "hxuDkq52cJp-"
      },
      "outputs": [],
      "source": [
        "figure=px.scatter(data_frame=data,x=\"Profile Visits\",y=\"Follows\",size=\"Follows\",trendline=\"ols\",title=\"Relationship Between Profile Visits and Followers Gained\")\n",
        "figure.show()"
      ]
    },
    {
      "cell_type": "markdown",
      "metadata": {
        "id": "9PyuqUvzoaCI"
      },
      "source": [
        "### The relationship between profile visits and followers gained is also linear."
      ]
    },
    {
      "cell_type": "code",
      "execution_count": null,
      "metadata": {
        "id": "FbrjCUMShY-Z"
      },
      "outputs": [],
      "source": []
    }
  ],
  "metadata": {
    "colab": {
      "provenance": []
    },
    "kernelspec": {
      "display_name": "Python 3",
      "name": "python3"
    },
    "language_info": {
      "name": "python"
    }
  },
  "nbformat": 4,
  "nbformat_minor": 0
}
